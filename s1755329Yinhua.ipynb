{
 "cells": [
  {
   "cell_type": "markdown",
   "metadata": {
    "collapsed": true
   },
   "source": [
    "# Describe"
   ]
  },
  {
   "cell_type": "markdown",
   "metadata": {},
   "source": [
    "#### What   is   the   general   type   of   the   data？"
   ]
  },
  {
   "cell_type": "markdown",
   "metadata": {},
   "source": [
    "The general type of the data is tabular.  \n",
    "There are 31 columns:  \n",
    "'AccusedRef' repesenting 'Unique identifier - initials plus system number'  \n",
    "'AccusedSystemId' repesenting 'Initials ofrecord  creator'   \n",
    "'AccusedID' repesenting 'System number'      \n",
    "'FirstName' repesenting 'First name as given in the source'  \n",
    "'LastName' repesenting 'Surname as given in the source'  \n",
    "'M_Firstname' repesenting 'Standard modern first name'  \n",
    "'M_Surname' repesenting 'Standard modern first name'  \n",
    "'Alias' repesenting 'Standard modern first name'  \n",
    "'Patronymic' repesenting 'Patronymic'  \n",
    "'DesTitle' repesenting 'Designation or Title'  \n",
    "'Sex' repesenting 'Sex of the accused'  \n",
    "'Age' repesenting 'Age at time of case'  \n",
    "'Age_estcareer' repesenting 'Indicates that age has been estimated from career'  \n",
    "'Age_estchild' repesenting 'Indicates that age has been estimated from the existence of children'  \n",
    "'Res_settlement' repesenting 'Place of residence - settlement'  \n",
    "'Res_parish' repesenting 'Place of residence - parish'  \n",
    "'Res_presbytery' repesenting 'Place of residence - presbytery'  \n",
    "'Res_county' repesenting 'Place of residence - county'  \n",
    "'Res_burgh' repesenting 'Place of residence - burgh'  \n",
    "'Res_NGR_Letters' repesenting 'Grid reference of place of residence - letters'  \n",
    "'Res_NGR_Easting' repesenting 'Grid reference of place of residence - easting'  \n",
    "'Res_NGR_Northing' repesenting 'Grid reference of place of residence - northing'  \n",
    "'Ethnic_origin' repesenting 'Ethnic origin'  \n",
    "'MaritalStatus' repesenting 'Marital status'  \n",
    "'SocioecStatus' repesenting 'Socio-economic status'  \n",
    "'Occupation' repesenting 'Occupation'  \n",
    "'Notes' repesenting 'Notes on the accused'  \n",
    "'Createdby' repesenting 'Name of person who created this record'  \n",
    "'Createdate' repesenting 'Date record created'  \n",
    "'Lastupdatedby' repesenting 'Name of person who last updated the record'  \n",
    "'Lastupdatedon' repesenting 'Date record last updated'  "
   ]
  },
  {
   "cell_type": "code",
   "execution_count": 16,
   "metadata": {},
   "outputs": [
    {
     "name": "stdout",
     "output_type": "stream",
     "text": [
      "   AccusedRef AccusedSystemId  AccusedID  FirstName    LastName M_Firstname  \\\n",
      "0    A/EGD/10             EGD         10     Mareon     Quheitt      Marion   \n",
      "1   A/EGD/100             EGD        100       Thom    Cockburn      Thomas   \n",
      "2  A/EGD/1000             EGD       1000  Christian  Aitkenhead   Christine   \n",
      "3  A/EGD/1001             EGD       1001      Janet     Ireland       Janet   \n",
      "4  A/EGD/1002             EGD       1002      Agnes  Hendersoun       Agnes   \n",
      "\n",
      "   M_Surname Alias Patronymic DesTitle         ...          Res_NGR_Northing  \\\n",
      "0      White   NaN        NaN      NaN         ...                       NaN   \n",
      "1   Cockburn   NaN        NaN      NaN         ...                       NaN   \n",
      "2  Aikenhead   NaN        NaN      NaN         ...                       NaN   \n",
      "3    Ireland   NaN        NaN      NaN         ...                       NaN   \n",
      "4  Henderson   NaN        NaN      NaN         ...                       NaN   \n",
      "\n",
      "   Ethnic_origin  MaritalStatus  SocioecStatus Occupation Notes Createdby  \\\n",
      "0            NaN            NaN            NaN        NaN   NaN       SMD   \n",
      "1            NaN            NaN            NaN        NaN   NaN       SMD   \n",
      "2            NaN        Married            NaN        NaN   NaN       SMD   \n",
      "3            NaN        Widowed            NaN        NaN   NaN       SMD   \n",
      "4            NaN            NaN            NaN        NaN   NaN       SMD   \n",
      "\n",
      "            Createdate Lastupdatedby        Lastupdatedon  \n",
      "0  15/05/2001 11:06:51           jhm  09/08/2002 11:40:51  \n",
      "1  15/05/2001 11:06:51           jhm  02/10/2002 10:32:30  \n",
      "2  15/05/2001 11:06:51           jhm  01/10/2002 10:48:12  \n",
      "3  15/05/2001 11:06:51           jhm  01/10/2002 10:49:00  \n",
      "4  15/05/2001 11:06:51           jhm  01/10/2002 10:50:07  \n",
      "\n",
      "[5 rows x 31 columns]\n"
     ]
    }
   ],
   "source": [
    "import pandas as pd\n",
    "data = pd.read_csv(\"WDB_Accused.csv\")\n",
    "print(data.head())"
   ]
  },
  {
   "cell_type": "markdown",
   "metadata": {},
   "source": [
    "#### How many rows and columns are in the dataset?"
   ]
  },
  {
   "cell_type": "markdown",
   "metadata": {},
   "source": [
    "There are 3219 rows and 31 columns in the dataset."
   ]
  },
  {
   "cell_type": "code",
   "execution_count": 17,
   "metadata": {},
   "outputs": [
    {
     "name": "stdout",
     "output_type": "stream",
     "text": [
      "(3219, 31)\n"
     ]
    }
   ],
   "source": [
    "print(data.shape)"
   ]
  },
  {
   "cell_type": "markdown",
   "metadata": {},
   "source": [
    "#### What is the size of the dataset?"
   ]
  },
  {
   "cell_type": "code",
   "execution_count": 18,
   "metadata": {},
   "outputs": [
    {
     "name": "stdout",
     "output_type": "stream",
     "text": [
      "99789\n"
     ]
    }
   ],
   "source": [
    "print(data.size)"
   ]
  },
  {
   "cell_type": "markdown",
   "metadata": {},
   "source": [
    "#### How many withches were accused and how many males and females?"
   ]
  },
  {
   "cell_type": "code",
   "execution_count": 19,
   "metadata": {},
   "outputs": [
    {
     "name": "stdout",
     "output_type": "stream",
     "text": [
      "3219 witches are accused\n",
      "468 were males.\n",
      "2702 were females.\n",
      "49 people‘s gender remained unknow.\n"
     ]
    }
   ],
   "source": [
    "import numpy as np \n",
    "\n",
    "print(data['AccusedRef'].shape[0], 'witches are accused')\n",
    "\n",
    "datamale=data.loc[(data['Sex'] =='Male')] \n",
    "datafemale=data.loc[(data['Sex'] =='Female')] \n",
    "datasexunknow=data.shape[0]-datamale.shape[0]-datafemale.shape[0]\n",
    "\n",
    "print(datamale.shape[0], 'were males.')\n",
    "print(datafemale.shape[0], 'were females.')\n",
    "print(datasexunknow, 'people‘s gender remained unknow.')"
   ]
  },
  {
   "cell_type": "markdown",
   "metadata": {},
   "source": [
    "#### How many witches do we know their age? What is the max/min/average age?"
   ]
  },
  {
   "cell_type": "code",
   "execution_count": 20,
   "metadata": {},
   "outputs": [
    {
     "name": "stdout",
     "output_type": "stream",
     "text": [
      "166 witches we know their age.\n",
      "Among the witches we know of age, the youngest is : 9.0\n",
      "Among the witches we know of age, the oldest is : 100.0\n",
      "Among the witches we know of age, the average is : 43\n"
     ]
    }
   ],
   "source": [
    "dataage=data.loc[(data['Age'] >0)] \n",
    "print(dataage.shape[0], 'witches we know their age.')\n",
    "\n",
    "print('Among the witches we know of age, the youngest is :',np.min(dataage['Age'])) \n",
    "print('Among the witches we know of age, the oldest is :',np.max(dataage['Age'])) \n",
    "print('Among the witches we know of age, the average is :', int(np.mean(dataage['Age'])) )"
   ]
  },
  {
   "cell_type": "markdown",
   "metadata": {},
   "source": [
    "#### How many males and females among those witches and if we set child of the age under 16, how many children?   \n"
   ]
  },
  {
   "cell_type": "markdown",
   "metadata": {},
   "source": [
    "#### What interesting information have found in the Children?"
   ]
  },
  {
   "cell_type": "code",
   "execution_count": 21,
   "metadata": {},
   "outputs": [
    {
     "name": "stdout",
     "output_type": "stream",
     "text": [
      "Female    2698\n",
      "Male       464\n",
      "Child        8\n",
      "Name: Person, dtype: int64\n",
      "328     accused with her parents, age calculated as 14...\n",
      "759     Daughter of Jonet Mathie, recorded as underage...\n",
      "1695    Described as a damsel. Not the same person as ...\n",
      "1820    Described as a poor begging boy.  He was a min...\n",
      "1859       The documents says lx (but very badly written)\n",
      "2104    his mother was also a witch.  He was not older...\n",
      "2576    The record says he was 12 at the time of trial...\n",
      "2878         Joyce had his brother being from Bargarrane.\n",
      "Name: Notes, dtype: object\n"
     ]
    }
   ],
   "source": [
    "def male_famle_child(witches):\n",
    "    age,sex = witches\n",
    "     \n",
    "    if age < 16:\n",
    "        return \"Child\"\n",
    "    else:\n",
    "        return sex\n",
    "\n",
    "data[\"Person\"] = data[[\"Age\",\"Sex\"]].apply(male_famle_child,axis=1)\n",
    "count=data[\"Person\"].value_counts()\n",
    "print(count)\n",
    "\n",
    "datachild=data.loc[(data['Person'] =='Child')]\n",
    "print(datachild.loc[:'FirstName' ,'Notes'])"
   ]
  },
  {
   "cell_type": "markdown",
   "metadata": {},
   "source": [
    "#### How the age came from?"
   ]
  },
  {
   "cell_type": "code",
   "execution_count": 22,
   "metadata": {},
   "outputs": [
    {
     "name": "stdout",
     "output_type": "stream",
     "text": [
      "74 witches their ages have been estimated from career\n",
      "118 witches their ages have been estimated from the existence of children\n"
     ]
    }
   ],
   "source": [
    "data1=dataage.loc[~dataage.Age_estcareer]\n",
    "print(data1.shape[0], 'witches their ages have been estimated from career')\n",
    "data2=dataage.loc[~dataage.Age_estchild]\n",
    "print(data2.shape[0], 'witches their ages have been estimated from the existence of children')"
   ]
  },
  {
   "cell_type": "markdown",
   "metadata": {},
   "source": [
    "#### What is the number of witches accused in different counties?"
   ]
  },
  {
   "cell_type": "code",
   "execution_count": 23,
   "metadata": {},
   "outputs": [
    {
     "name": "stdout",
     "output_type": "stream",
     "text": [
      "Sex            Female  Male   All\n",
      "Res_county                       \n",
      "Kincardine          0     2     2\n",
      "Cromarty            2     0     2\n",
      "Argyll              4     2     6\n",
      "Kinross             5     2     7\n",
      "Banff               6     2     8\n",
      "Sutherland         12     3    15\n",
      "Wigtown            13     1    14\n",
      "Selkirk            16     5    21\n",
      "Clackmannan        16     2    18\n",
      "Dunbarton          21     4    25\n",
      "Shetland           21     6    27\n",
      "Elgin              24     4    28\n",
      "Inverness          32    10    42\n",
      "Kirkcudbright      34     1    35\n",
      "Caithness          38    11    49\n",
      "Bute               44     8    52\n",
      "Stirling           45     8    53\n",
      "Nairn              45    10    55\n",
      "Roxburgh           49    11    60\n",
      "Ross               57    14    71\n",
      "Orkney             62     9    71\n",
      "Peebles            68    21    89\n",
      "Forfar             68    11    79\n",
      "Dumfries           69     9    78\n",
      "Lanark             72     5    77\n",
      "Perth              91    14   105\n",
      "Renfrew            99    24   123\n",
      "Berwick           100    26   126\n",
      "Linlithgow        106     8   114\n",
      "Ayr               125    23   148\n",
      "Aberdeen          144    28   172\n",
      "Edinburgh         321    49   370\n",
      "Fife              352    27   379\n",
      "Haddington        451    88   539\n",
      "All              2612   448  3060\n"
     ]
    }
   ],
   "source": [
    "dcounty=pd.crosstab(data.Res_county,data.Sex, margins=True)\n",
    "dcounty.sort_values(by='Female', inplace=True)\n",
    "print(dcounty)"
   ]
  },
  {
   "cell_type": "markdown",
   "metadata": {},
   "source": [
    "####  What is the number of witches accused from different maritalstatus?"
   ]
  },
  {
   "cell_type": "code",
   "execution_count": 24,
   "metadata": {},
   "outputs": [
    {
     "name": "stdout",
     "output_type": "stream",
     "text": [
      "Sex              Female  Male  All\n",
      "MaritalStatus                     \n",
      "/                     1     0    1\n",
      "Irregular union       2     0    2\n",
      "Unknown               3     0    3\n",
      "Single               11     5   16\n",
      "Widowed             140     0  140\n",
      "Married             497    78  575\n",
      "All                 654    83  737\n"
     ]
    }
   ],
   "source": [
    "dmaritalstatus=pd.crosstab(data.MaritalStatus,data.Sex, margins=True)\n",
    "dmaritalstatus.sort_values(by='Female', inplace=True)\n",
    "print(dmaritalstatus)"
   ]
  },
  {
   "cell_type": "markdown",
   "metadata": {},
   "source": [
    "#### What are the count of the Firstname of those withces?"
   ]
  },
  {
   "cell_type": "code",
   "execution_count": 25,
   "metadata": {},
   "outputs": [
    {
     "name": "stdout",
     "output_type": "stream",
     "text": [
      "Margaret                              378\n",
      "Jonet                                 195\n",
      "Janet                                 190\n",
      "Agnes                                 176\n",
      "Bessie                                138\n",
      "Marion                                106\n",
      "Issobell                               98\n",
      "John                                   90\n",
      "Helen                                  86\n",
      "Elspeth                                72\n",
      "Katherine                              60\n",
      "Christian                              58\n",
      "Unknown                                48\n",
      "William                                48\n",
      "Jonnet                                 44\n",
      "James                                  42\n",
      "Jean                                   42\n",
      "Marioun                                38\n",
      "Elizabeth                              38\n",
      "Thomas                                 37\n",
      "Isobel                                 36\n",
      "Barbara                                34\n",
      "Margret                                33\n",
      "Elspet                                 31\n",
      "Isobell                                25\n",
      "Jeane                                  24\n",
      "George                                 23\n",
      "Robert                                 21\n",
      "Mary                                   21\n",
      "Katharine                              19\n",
      "                                     ... \n",
      "Sybilla                                 1\n",
      "Mary Nein                               1\n",
      "Jonat nein giblie                       1\n",
      "Jonet Neyne William                     1\n",
      "Cirstine                                1\n",
      "Agnes (Bigis)                           1\n",
      "Katherine nein rob                      1\n",
      "Isdobell                                1\n",
      "Neane                                   1\n",
      "Marion Neyne                            1\n",
      "Katheriene                              1\n",
      "Catherein                               1\n",
      "Mother of Jonet                         1\n",
      "Jonet Neill Donald Vic William Vic      1\n",
      "Mauld                                   1\n",
      "Alester                                 1\n",
      "Ewphame                                 1\n",
      "Meriorie                                1\n",
      "Jonet Nein Ean                          1\n",
      "Beak                                    1\n",
      "Charles                                 1\n",
      "Gradoch                                 1\n",
      "Hector                                  1\n",
      "Marrion                                 1\n",
      "wife of George                          1\n",
      "Geddoch                                 1\n",
      "Erschin                                 1\n",
      "Marshall                                1\n",
      "Christian Neyn Andoy                    1\n",
      "Bartie                                  1\n",
      "Name: FirstName, Length: 456, dtype: int64\n"
     ]
    }
   ],
   "source": [
    "count=data[\"FirstName\"].value_counts()\n",
    "print(count)"
   ]
  },
  {
   "cell_type": "markdown",
   "metadata": {},
   "source": [
    "# Explore"
   ]
  },
  {
   "cell_type": "markdown",
   "metadata": {},
   "source": [
    "#### What is the distribution of age?"
   ]
  },
  {
   "cell_type": "markdown",
   "metadata": {},
   "source": [
    "The age is mainly distributed in the range from 40 (years old) to 60 (years old), especially at around 50 (years old)."
   ]
  },
  {
   "cell_type": "code",
   "execution_count": 26,
   "metadata": {},
   "outputs": [
    {
     "data": {
      "image/png": "[encoded data removed]",
      "text/plain": [
       "<matplotlib.figure.Figure at 0x106c06710>"
      ]
     },
     "metadata": {},
     "output_type": "display_data"
    }
   ],
   "source": [
    "%matplotlib inline \n",
    "\n",
    "import seaborn as sns \n",
    "import matplotlib.pyplot as plt \n",
    "\n",
    "sns.distplot(dataage['Age'])\n",
    "plt.show()   "
   ]
  },
  {
   "cell_type": "markdown",
   "metadata": {},
   "source": [
    "#### What is the proportion of different people, including female, male and child?"
   ]
  },
  {
   "cell_type": "markdown",
   "metadata": {},
   "source": [
    "The proportion of female, male and child is 85.1%, 14.6% and 0.3%. "
   ]
  },
  {
   "cell_type": "code",
   "execution_count": 27,
   "metadata": {},
   "outputs": [
    {
     "data": {
      "image/png": "[encoded data removed]",
      "text/plain": [
       "<matplotlib.figure.Figure at 0x1a125af160>"
      ]
     },
     "metadata": {},
     "output_type": "display_data"
    }
   ],
   "source": [
    "plt.figure(figsize=(6,9))\n",
    "\n",
    "labels = [u'FEMALE', u'MALE', u'CHILD']\n",
    "\n",
    "sizes = [2698,464,8]\n",
    "colors = ['green','yellowgreen','black']\n",
    "\n",
    "explode = (0.05,0,0)\n",
    "\n",
    "patches,l_text,p_text = plt.pie(sizes,explode=explode,labels=labels,colors=colors,\n",
    "                                labeldistance = 1.1,autopct = '%3.1f%%',shadow = False,\n",
    "                                startangle = 90,pctdistance = 0.6)\n",
    "\n",
    "for t in l_text:\n",
    "    t.set_size=(30)\n",
    "for t in p_text:\n",
    "    t.set_size=(20)\n",
    "\n",
    "plt.axis('equal')\n",
    "plt.legend()\n",
    "plt.show()\n"
   ]
  },
  {
   "cell_type": "markdown",
   "metadata": {},
   "source": [
    "#### What is the number of witches accused in different counties?"
   ]
  },
  {
   "cell_type": "markdown",
   "metadata": {},
   "source": [
    "Generally speaking, they are the top three numbers of witches accused in the Haddington, Fife and Edinburgh. \n"
   ]
  },
  {
   "cell_type": "code",
   "execution_count": 28,
   "metadata": {
    "scrolled": true
   },
   "outputs": [
    {
     "data": {
      "image/png": "[encoded data removed]",
      "text/plain": [
       "<matplotlib.figure.Figure at 0x1a11e9aef0>"
      ]
     },
     "metadata": {},
     "output_type": "display_data"
    }
   ],
   "source": [
    "dcounty.plot(kind='bar',stacked=True, color=['black','orange'])\n",
    "plt.show() "
   ]
  },
  {
   "cell_type": "markdown",
   "metadata": {},
   "source": [
    "#### Does the number of withes accused have relationship with the SocioecStatus?"
   ]
  },
  {
   "cell_type": "markdown",
   "metadata": {},
   "source": [
    "Most of the withches accused are in the Middling and Lower of the SocioecStatus"
   ]
  },
  {
   "cell_type": "code",
   "execution_count": 29,
   "metadata": {
    "scrolled": false
   },
   "outputs": [
    {
     "data": {
      "text/plain": [
       "<function matplotlib.pyplot.show>"
      ]
     },
     "execution_count": 29,
     "metadata": {},
     "output_type": "execute_result"
    },
    {
     "data": {
      "image/png": "[encoded data removed]",
      "text/plain": [
       "<matplotlib.figure.Figure at 0x1a11c24860>"
      ]
     },
     "metadata": {},
     "output_type": "display_data"
    }
   ],
   "source": [
    "sns.factorplot('SocioecStatus',data=data,palette='Purples', kind=\"count\",hue=\"Person\", size=8)\n",
    "plt.show"
   ]
  },
  {
   "cell_type": "markdown",
   "metadata": {},
   "source": [
    "#### What is the relationship between maritalStatus, age and sex?"
   ]
  },
  {
   "cell_type": "markdown",
   "metadata": {},
   "source": [
    "Most of the witches accused are married or widowed. At the same time, they were in the Middling SocioecStatus."
   ]
  },
  {
   "cell_type": "code",
   "execution_count": 30,
   "metadata": {},
   "outputs": [
    {
     "data": {
      "image/png": "[encoded data removed]",
      "text/plain": [
       "<matplotlib.figure.Figure at 0x10a667518>"
      ]
     },
     "metadata": {},
     "output_type": "display_data"
    }
   ],
   "source": [
    "plt.figure(figsize=(9,6))\n",
    "sns.stripplot(x='MaritalStatus',y='Age',hue='SocioecStatus', jitter=True, data=data, palette=\"Set2\", size=5)\n",
    "plt.show()"
   ]
  },
  {
   "cell_type": "markdown",
   "metadata": {},
   "source": [
    "# Reflection \n"
   ]
  },
  {
   "cell_type": "markdown",
   "metadata": {},
   "source": [
    "Through the data analyzing and visualization above, I have found most of the witches accused were women at the number of 2698 and there were some children at the number of 8 among the witches who had a record of age. Since at that time, the social position of females were always below the males. By listing the notes of the children from the csv file, some of them was accused because of their parents who were accused as witches. And not all of the witches accused had a record of age. Most of the witches, no matter males or females were married or widowed, and the numbers of them were 575 and 140. Most of the witches were accused in the county of Edinburgh, Fife and Haddington. The number of them were 370, 379 and 539. Half of the witches accused were in the Middling Socioecstatus. There were lots of information remained unknown so there were blanks in the csv file. We not very clearly know all information of the witches, from this point we can image how guiltless they were.\n"
   ]
  },
  {
   "cell_type": "markdown",
   "metadata": {},
   "source": [
    "# Hypothesise"
   ]
  },
  {
   "cell_type": "markdown",
   "metadata": {},
   "source": [
    "\n",
    "1.\tWhy most of the witches accused were in the Middling socioecstatus, does it relate to some politic or other things? I will go to know more culture of the background about the witches.\n",
    "2.\tMost of the witches were accused in the county of Edinburgh, Fife and Haddington. There must be something happened at that time in those places, resulting in lots of witches accused. I would like do some research on those places to see what had happened.\n",
    "3.\tThere were some popular names like Margaret, Jonet, Janet and Agnes, do it will relate to some family history? Deep research in the history further.\n"
   ]
  }
 ],
 "metadata": {
  "kernelspec": {
   "display_name": "Python 3",
   "language": "python",
   "name": "python3"
  },
  "language_info": {
   "codemirror_mode": {
    "name": "ipython",
    "version": 3
   },
   "file_extension": ".py",
   "mimetype": "text/x-python",
   "name": "python",
   "nbconvert_exporter": "python",
   "pygments_lexer": "ipython3",
   "version": "3.6.2"
  }
 },
 "nbformat": 4,
 "nbformat_minor": 2
}
